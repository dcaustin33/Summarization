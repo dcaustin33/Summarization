{
 "cells": [
  {
   "cell_type": "code",
   "execution_count": 76,
   "metadata": {},
   "outputs": [
    {
     "name": "stderr",
     "output_type": "stream",
     "text": [
      "Some weights of the model checkpoint at bert-base-uncased were not used when initializing BertModel: ['cls.seq_relationship.bias', 'cls.predictions.bias', 'cls.predictions.transform.LayerNorm.bias', 'cls.predictions.transform.dense.bias', 'cls.predictions.transform.dense.weight', 'cls.predictions.decoder.weight', 'cls.seq_relationship.weight', 'cls.predictions.transform.LayerNorm.weight']\n",
      "- This IS expected if you are initializing BertModel from the checkpoint of a model trained on another task or with another architecture (e.g. initializing a BertForSequenceClassification model from a BertForPreTraining model).\n",
      "- This IS NOT expected if you are initializing BertModel from the checkpoint of a model that you expect to be exactly identical (initializing a BertForSequenceClassification model from a BertForSequenceClassification model).\n",
      "Found cached dataset cnn_dailymail (/home/da2986/.cache/huggingface/datasets/cnn_dailymail/3.0.0/3.0.0/1b3c71476f6d152c31c1730e83ccb08bcf23e348233f4fcc11e182248e6bf7de)\n"
     ]
    }
   ],
   "source": [
    "import torch\n",
    "from datasets import load_dataset\n",
    "from rouge import Rouge\n",
    "\n",
    "import transformers\n",
    "\n",
    "from transformers import PegasusForConditionalGeneration, PegasusTokenizer\n",
    "import transformers\n",
    "from trainer import Trainer\n",
    "from torch.utils.data import DataLoader\n",
    "from pl_bolts.optimizers.lr_scheduler import LinearWarmupCosineAnnealingLR\n",
    "import wandb\n",
    "from logger import log_metrics\n",
    "#import gradient checkpointing\n",
    "from torch.utils.checkpoint import checkpoint_sequential\n",
    "import numpy as np\n",
    "from transformers import BertTokenizer, BertModel\n",
    "import torch.nn.functional as F\n",
    "\n",
    "class CNNBERT(torch.utils.data.Dataset):\n",
    "    def __init__(self, model_name = 'google/pegasus-large', max_length=256, split = 'train'):\n",
    "        self.tokenizer = PegasusTokenizer.from_pretrained(model_name)\n",
    "        self.tokenizer.max_length = max_length\n",
    "        self.model = BertModel.from_pretrained('bert-base-uncased').cuda()\n",
    "        self.tokenizer2 = BertTokenizer.from_pretrained('bert-base-uncased')\n",
    "        self.dataset = load_dataset('cnn_dailymail', '3.0.0', split = split)\n",
    "        self.max_length = max_length\n",
    "\n",
    "    @torch.no_grad()\n",
    "    def get_bert_embeddings(self, text):\n",
    "        inputs = self.tokenizer2(text, return_tensors=\"pt\", padding=True, truncation=True, max_length=512)\n",
    "        inputs = {k: v.cuda() for k, v in inputs.items()}\n",
    "        embeddings = self.model(**inputs)['pooler_output']\n",
    "        #compute cosine similarity between embeddings\n",
    "        embeddings = F.normalize(embeddings, p=2, dim=1)\n",
    "        return embeddings\n",
    "\n",
    "    def __len__(self):\n",
    "        return len(self.dataset)\n",
    "\n",
    "    def __getitem__(self, idx):\n",
    "        text = self.dataset[idx]['article']\n",
    "        text = text.split('. ')\n",
    "        text = [i.strip() for i in text]\n",
    "        \n",
    "        embeddings = self.get_bert_embeddings(text)\n",
    "        first = np.random.choice(len(text), 1, replace=False)[0]\n",
    "        chosen_embeddings = torch.empty((1, 768)).cuda()\n",
    "        bag_of_sentences = [first]\n",
    "        chosen_embeddings[0] = embeddings[first]\n",
    "        current_size = len(text[first])\n",
    "\n",
    "        while current_size < self.max_length and len(bag_of_sentences) < len(text):\n",
    "            new_cosine_sim = torch.mm(chosen_embeddings, embeddings.T)\n",
    "            vals, indices = torch.topk(-torch.sum(new_cosine_sim, dim = 0), k = len(text))\n",
    "            for i in indices:\n",
    "                if i not in bag_of_sentences:\n",
    "                    chosen_embeddings = torch.cat((chosen_embeddings, embeddings[i].unsqueeze(0)), dim = 0)\n",
    "                    bag_of_sentences.append(i.item())\n",
    "                    current_size += len(text[i])\n",
    "                    break\n",
    "        bag_of_sentences = sorted(bag_of_sentences)\n",
    "        final = [text[i] for i in bag_of_sentences]\n",
    "        final = '. '.join(final)\n",
    "        print(final)\n",
    "\n",
    "        summary_text = self.dataset[idx]['highlights']\n",
    "        return {'article_text':final, 'summary_text': summary_text}\n",
    "\n",
    "dataset = CNNBERT(max_length=512, split = 'train')\n",
    "dataloader = DataLoader(dataset, batch_size=1, shuffle=False, num_workers=0)"
   ]
  },
  {
   "cell_type": "code",
   "execution_count": 77,
   "metadata": {},
   "outputs": [
    {
     "name": "stdout",
     "output_type": "stream",
     "text": [
      "Daniel Radcliffe as Harry Potter in \"Harry Potter and the Order of the Phoenix\" To the disappointment of gossip columnists around the world, the young actor says he has no plans to fritter his cash away on fast cars, drink and celebrity parties. \"I don't plan to be one of those people who, as soon as they turn 18, suddenly buy themselves a massive sports car collection or something similar,\" he told an Australian interviewer earlier this month. \"I don't think I'll be particularly extravagant. All rights reserved.This material may not be published, broadcast, rewritten, or redistributed.\n"
     ]
    }
   ],
   "source": [
    "for i, batch1 in enumerate(dataloader):\n",
    "    break"
   ]
  },
  {
   "cell_type": "code",
   "execution_count": 78,
   "metadata": {},
   "outputs": [],
   "source": [
    "batch1['article'] = dataset.tokenizer(batch1['article_text'], max_length=512, truncation=True, padding='longest', return_tensors=\"pt\")\n",
    "batch1['summary'] = dataset.tokenizer(batch1['summary_text'], max_length=512, truncation=True, padding='longest', return_tensors=\"pt\")"
   ]
  },
  {
   "cell_type": "code",
   "execution_count": 79,
   "metadata": {},
   "outputs": [
    {
     "name": "stdout",
     "output_type": "stream",
     "text": [
      "['Daniel Radcliffe as Harry Potter in \"Harry Potter and the Order of the Phoenix\" To the disappointment of gossip columnists around the world, the young actor says he has no plans to fritter his cash away on fast cars, drink and celebrity parties. \"I don\\'t plan to be one of those people who, as soon as they turn 18, suddenly buy themselves a massive sports car collection or something similar,\" he told an Australian interviewer earlier this month. \"I don\\'t think I\\'ll be particularly extravagant. All rights reserved.This material may not be published, broadcast, rewritten, or redistributed.']\n"
     ]
    },
    {
     "data": {
      "text/plain": [
       "'Daniel Radcliffe as Harry Potter in \"Harry Potter and the Order of the Phoenix\" To the disappointment of gossip columnists around the world, the young actor says he has no plans to fritter his cash away on fast cars, drink and celebrity parties. \"I don\\'t plan to be one of those people who, as soon as they turn 18, suddenly buy themselves a massive sports car collection or something similar,\" he told an Australian interviewer earlier this month. \"I don\\'t think I\\'ll be particularly extravagant. All rights reserved.This material may not be published, broadcast, rewritten, or redistributed.'"
      ]
     },
     "execution_count": 79,
     "metadata": {},
     "output_type": "execute_result"
    }
   ],
   "source": [
    "print(batch1['article_text'])\n",
    "dataset.tokenizer.decode(batch1['article']['input_ids'][0])"
   ]
  },
  {
   "cell_type": "code",
   "execution_count": 65,
   "metadata": {},
   "outputs": [
    {
     "name": "stdout",
     "output_type": "stream",
     "text": [
      "[\"Harry Potter star Daniel Radcliffe gets £20M fortune as he turns 18 Monday .\\nYoung actor says he has no plans to fritter his cash away .\\nRadcliffe's earnings from first five Potter films have been held in trust fund .\"]\n"
     ]
    },
    {
     "data": {
      "text/plain": [
       "\"[CLS] harry potter star daniel radcliffe gets £20m fortune as he turns 18 monday. young actor says he has no plans to fritter his cash away. radcliffe's earnings from first five potter films have been held in trust fund. [SEP]\""
      ]
     },
     "execution_count": 65,
     "metadata": {},
     "output_type": "execute_result"
    }
   ],
   "source": [
    "print(batch1['summary_text'])\n",
    "dataset.tokenizer.decode(batch1['summary']['input_ids'][0])"
   ]
  },
  {
   "cell_type": "code",
   "execution_count": 66,
   "metadata": {},
   "outputs": [],
   "source": [
    "class PegasusCNNPowerLaw(torch.utils.data.Dataset):\n",
    "    def __init__(self, model_name = 'google/pegasus-large', max_length=256, split = 'train', divisor = 2):\n",
    "        self.tokenizer = PegasusTokenizer.from_pretrained(model_name)\n",
    "        self.tokenizer.max_length = max_length\n",
    "        self.dataset = load_dataset('cnn_dailymail', '3.0.0', split = split)\n",
    "        self.max_length = max_length\n",
    "        self.probability = np.ones(1000) * 1000000\n",
    "        for i, val in enumerate(self.probability):\n",
    "            if i == 0: continue\n",
    "            self.probability[i] = self.probability[i-1] / divisor\n",
    "        self.indexes = np.arange(1000)\n",
    "\n",
    "    def __len__(self):\n",
    "        return len(self.dataset)\n",
    "\n",
    "    def __getitem__(self, idx):\n",
    "        text = self.dataset[idx]['article']\n",
    "        text = text.split('. ')\n",
    "        \n",
    "        max_idx = max(1, len(text))\n",
    "        choices = np.random.choice(self.indexes[:max_idx], max_idx, replace = False, p = self.probability[:max_idx] / self.probability[:max_idx].sum())\n",
    "\n",
    "        current_size = 0\n",
    "        counter = 0\n",
    "        while current_size < self.max_length and counter < max_idx:\n",
    "            current_size += len(text[choices[counter]])\n",
    "            counter += 1\n",
    "\n",
    "        choices = sorted(choices[:counter])\n",
    "        final = list(np.array(text)[choices])\n",
    "        text = '. '.join(final)\n",
    "\n",
    "        summary_text = self.dataset[idx]['highlights']\n",
    "        return {'article_text':text, 'summary_text': summary_text}"
   ]
  },
  {
   "cell_type": "code",
   "execution_count": 67,
   "metadata": {},
   "outputs": [
    {
     "name": "stderr",
     "output_type": "stream",
     "text": [
      "Found cached dataset cnn_dailymail (/home/da2986/.cache/huggingface/datasets/cnn_dailymail/3.0.0/3.0.0/1b3c71476f6d152c31c1730e83ccb08bcf23e348233f4fcc11e182248e6bf7de)\n"
     ]
    }
   ],
   "source": [
    "dataset = PegasusCNNPowerLaw(max_length=512, split = 'train', divisor = 2)\n",
    "dataloader = DataLoader(dataset, batch_size=1, shuffle=False, num_workers=0)\n",
    "for i, batch2 in enumerate(dataloader):\n",
    "    break"
   ]
  },
  {
   "cell_type": "code",
   "execution_count": 68,
   "metadata": {},
   "outputs": [],
   "source": [
    "batch2['article'] = dataset.tokenizer(batch2['article_text'], max_length=512, truncation=True, padding='longest', return_tensors=\"pt\")\n",
    "batch2['summary'] = dataset.tokenizer(batch2['summary_text'], max_length=512, truncation=True, padding='longest', return_tensors=\"pt\")"
   ]
  },
  {
   "cell_type": "code",
   "execution_count": 69,
   "metadata": {},
   "outputs": [
    {
     "data": {
      "text/plain": [
       "'LONDON, England (Reuters) -- Harry Potter star Daniel Radcliffe gains access to a reported £20 million ($41.1 million) fortune as he turns 18 on Monday, but he insists the money won\\'t cast a spell on him. Daniel Radcliffe as Harry Potter in \"Harry Potter and the Order of the Phoenix\" To the disappointment of gossip columnists around the world, the young actor says he has no plans to fritter his cash away on fast cars, drink and celebrity parties. \"I don\\'t plan to be one of those people who, as soon as they turn 18, suddenly buy themselves a massive sports car collection or something similar,\" he told an Australian interviewer earlier this month. \"I don\\'t think I\\'ll be particularly extravagant'"
      ]
     },
     "execution_count": 69,
     "metadata": {},
     "output_type": "execute_result"
    }
   ],
   "source": [
    "dataset.tokenizer.decode(batch2['article']['input_ids'][0])"
   ]
  },
  {
   "cell_type": "code",
   "execution_count": 70,
   "metadata": {},
   "outputs": [
    {
     "data": {
      "text/plain": [
       "\"Harry Potter star Daniel Radcliffe gets £20M fortune as he turns 18 Monday. Young actor says he has no plans to fritter his cash away. Radcliffe's earnings from first five Potter films have been held in trust fund.\""
      ]
     },
     "execution_count": 70,
     "metadata": {},
     "output_type": "execute_result"
    }
   ],
   "source": [
    "dataset.tokenizer.decode(batch2['summary']['input_ids'][0])"
   ]
  }
 ],
 "metadata": {
  "kernelspec": {
   "display_name": "Python 3.9.13 ('base')",
   "language": "python",
   "name": "python3"
  },
  "language_info": {
   "codemirror_mode": {
    "name": "ipython",
    "version": 3
   },
   "file_extension": ".py",
   "mimetype": "text/x-python",
   "name": "python",
   "nbconvert_exporter": "python",
   "pygments_lexer": "ipython3",
   "version": "3.9.13"
  },
  "orig_nbformat": 4,
  "vscode": {
   "interpreter": {
    "hash": "998174799bccd60bb63e033f702b872724459890f16847813c212c177da2da49"
   }
  }
 },
 "nbformat": 4,
 "nbformat_minor": 2
}
