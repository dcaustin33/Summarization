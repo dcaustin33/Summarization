{
 "cells": [
  {
   "cell_type": "code",
   "execution_count": 13,
   "metadata": {},
   "outputs": [
    {
     "name": "stderr",
     "output_type": "stream",
     "text": [
      "Found cached dataset cnn_dailymail (/home/da2986/.cache/huggingface/datasets/cnn_dailymail/3.0.0/3.0.0/1b3c71476f6d152c31c1730e83ccb08bcf23e348233f4fcc11e182248e6bf7de)\n"
     ]
    },
    {
     "name": "stdout",
     "output_type": "stream",
     "text": [
      "['(Health.com) -- Infants who undergo surgical procedures requiring general anesthesia in their first two years of life may be at increased risk of developing attention deficit hyperactivity disorder (ADHD) as they grow older', 'Warner, however, stresses that parents should not be unduly alarmed if their child requires general anesthesia', '\"All we can say is that we can\\'t exclude that this could be a problem,\" he says, noting that the findings do not prove cause and effect', \"Very few young children undergo surgery requiring general anesthesia, and those who do typically have serious medical conditions that can't be ignored\", 'Procedures might include hernia repair (to prevent a section of intestine from getting trapped and causing an obstruction), or surgeries to correct life-threatening abnormalities of the lungs or heart', 'Health.com: 9 food additives that may affect ADHD ', 'The new findings should not dissuade parents or doctors from approving necessary surgery, says Peter J', \"Davis, M.D., anesthesiologist-in-chief at the Children's Hospital of Pittsburgh\", '\"There is no data to suggest that kids who require surgery shouldn\\'t have it,\" says Davis, who was not involved in the study', 'Concerns about the potential impact of general anesthesia on brain development first arose about 10 years ago, after studies showed that young animals exposed to anesthesia had brain changes that were associated with behavioral problems', \"At the time, investigators didn't think the results from animal studies would be borne out in humans\", \"But a study published last year by Warner and his colleagues found that young children had double the risk of developing learning disabilities if they'd been exposed to multiple rounds of general anesthesia\", 'Health.com: ADHD linked to pesticide exposure ', 'The new study implies the same pattern might hold for ADHD, although a number of major caveats apply', 'Only 350 children -- less than 1% of the study participants -- were put under for a surgical procedure, which is a small sample from which to draw conclusions', 'And more than two-thirds of the children needing surgery were boys, who are already at triple the risk for ADHD than girls', 'In addition, most of the surgeries, which took place in the late 1970s and early 1980s, involved the anesthetic halothane, which is no longer used', 'Finally, not all of the children received an ADHD diagnosis from a doctor', 'The researchers identified most ADHD cases by piecing together detailed school and medical records, although they used a rigorous multistep process to do so', \"Health.com: What if my child begins to exhibit symptoms of ADHD? But perhaps the main reason for caution is that the authors can't rule out the possibility that the medical conditions that prompted the surgeries, rather than the anesthetic, are responsible for the increased ADHD risk\", \"Similarly, they can't rule out the possibility that some other aspect of surgery or recovery, such as medications, may be to blame\", '\"The issues of surgery and anesthesia really can\\'t be separated in all this,\" Davis says', 'Still, there is some evidence that suggests a link between general anesthesia and ADHD is plausible', 'In animals, anesthetics -- including newer-generation drugs -- seem to speed up the otherwise normal process of cell death, which may make the brain more vulnerable to ADHD, Warner says', 'The drugs may also directly damage neurons, he adds', \"The good news is that the window in which a child's brain is developing rapidly and is susceptible to this type of damage appears to be relatively brief\", \"Researchers haven't pinned down the exact time frame, but animal studies suggest that the risk of damage decreases after about age three, Warner says\", 'Copyright Health Magazine 2011 .']\n",
      "['By ', 'A spiritual healer has been charged with rape and sexual assault after luring a woman to a motel room to perform a raw egg cleanse treatment', 'Alberto Flores Ramirez, 36, allegedly met his victim through a chat and dating website', 'Ramirez, of Santa Clemente, California, embarked on an online relationship with the 33-year-old woman from Mexico who is in the U.S', 'on a tourist visa with her son', 'Her two daughters remained in Mexico with a man who is not her husband but has custody of the children', 'Santa Ana police Cpl', \"Anthony Bertagna told MailOnline that Ramirez had convinced the woman he could 'spiritually cleanse her', making it possible for her two girls to come to America\", \"After chatting to Ramirez on the website Badoo, she agreed to meet him at a McDonald's restaurant in Santa Ana on April 3\", \"They then drove to the Aloha Motel around 6pm to begin the treatment - a healing art which cleanses a person's spiritual aura by running an egg over the body to release negative energies\", 'Egg cleansing is common throughout central and south America, but is not widely known in the U.S', \"After performing the cleanse once, Ramirez told the victim she still had 'bad vibes' and to remove her clothes\", \"He then reportedly rubbed raw eggs on the victim’s body and fondled her, according to a report by the District Attorney's office\", 'When the victim attempted to cover herself with the comforter from the bed, Ramirez is accused of jumping on top of the victim and restraining her', 'He then raped the woman and threatened her life', 'After she escaped, she contacted police and took part in a sting to catch Ramirez - who is believed to be in the U.S', 'illegally', 'Cultural practice: Although it is not widely known in the U.S., the raw egg cleanse is commonly used as a spiritual healing treatment in Latin America ', 'He was lured to a meeting point after text messages were sent by the woman and detectives were able to make an arrest', 'Ramirez has been charged with one ', 'felony count each of forcible rape, forcible oral copulation, and sexual ', 'penetration with foreign object by force', 'If convicted, he faces a ', 'maximum sentence of 12 years in state prison', 'Ramirez is being held on $100,000 bail and was expected to be arraigned today at 3pm local time', 'Attack: Ramirez took the 33-year-old woman to the Aloha Motel to perform the spiritual treatment and then allegedly raped and threatened to kill her .']\n",
      "['By ', 'in on our most valued shrubs', 'Adding insult, they normally just spit ', 'out the severed bits uneaten.’ Mr Davies admitted he had not shot ', 'anything for over 40 years but he had considered getting in pest ', 'controllers', 'He added that he had ‘shot at’ grey squirrels and a ‘horrid ', 'feral cat with an airgun’ but ‘always missed’', 'Anger: The comments by the Montgomeryshire MP immediately drew an angry reaction from animal welfare groups', 'A red deer is pictured ', 'He went on that he did not have a gun ', 'or a licence ‘so it can be no more than a dream', 'I suppose I could buy a ', 'bow and arrow', 'I am after all the reigning parliamentary archery ', 'champion.’ He pointed out that David Cameron was himself a keen deer stalker', '‘So me and stag shooting...are wholly Cameroon!’ The Prime Minister has pledged a vote in the Commons on blood sports in what is likely to be a free vote.']\n",
      "['By ', 'Other features of the Supercraft, illustration pictured, include an Android display with Bluetooth and Wi-Fi connectivity plus refrigerated drink wells ', \"Ten collector's edition will be \", 'available from 15 May, with 50 more units manufactured in October', \"A Mercier-Jones spokesman said: 'Supercraft is the world's first luxury high-performance hovercraft\", '‘Agile, fast, easy to pilot, the 2015 Supercraft is an advanced amphibious vehicle with style certain to draw attention', \"'Mercier-Jones has patent pending technology in its revolutionary propulsion system and hybrid drive train, making the Supercraft the most innovative hand built hovercraft ever manufactured.’\"]\n"
     ]
    }
   ],
   "source": [
    "import torch\n",
    "from datasets import load_dataset\n",
    "from rouge import Rouge\n",
    "\n",
    "import transformers\n",
    "\n",
    "from transformers import PegasusForConditionalGeneration, PegasusTokenizer\n",
    "import transformers\n",
    "from trainer import Trainer\n",
    "from torch.utils.data import DataLoader\n",
    "from pl_bolts.optimizers.lr_scheduler import LinearWarmupCosineAnnealingLR\n",
    "import wandb\n",
    "from logger import log_metrics\n",
    "import numpy as np\n",
    "\n",
    "class PegasusCNNDatasetNRandom(torch.utils.data.Dataset):\n",
    "    def __init__(self, model_name = 'google/pegasus-large', max_length=256, split = 'train', first_selection = 1):\n",
    "        self.tokenizer = PegasusTokenizer.from_pretrained(model_name)\n",
    "        self.tokenizer.max_length = max_length\n",
    "        self.dataset = load_dataset('cnn_dailymail', '3.0.0', split = split)\n",
    "        self.max_length = max_length\n",
    "        self.first_selection = first_selection\n",
    "        \n",
    "        #we want to tokenize both our inputs and outputs before passing to the model\n",
    "        #self.inputs = self.tokenizer(self.dataset['article'], max_length=self.max_length, truncation=True, padding=\"longest\", return_tensors=\"pt\")\n",
    "        #self.outputs = self.tokenizer(self.dataset['highlights'], max_length=self.max_length, truncation=True, padding=\"longest\", return_tensors=\"pt\")\n",
    "\n",
    "    def __len__(self):\n",
    "        return len(self.dataset)\n",
    "\n",
    "    def __getitem__(self, idx):\n",
    "        text = self.dataset[idx]['article']\n",
    "        text = text.split('. ')\n",
    "        \n",
    "        max_idx = max(1, len(text) - 3)\n",
    "        final = text[:self.first_selection]\n",
    "        final = final + text[np.random.randint(max_idx):]\n",
    "        print(final)\n",
    "        text = '. '.join(final)\n",
    "\n",
    "        summary_text = self.dataset[idx]['highlights']\n",
    "        return {'article_text':text, 'summary_text': summary_text}\n",
    "\n",
    "dataset = PegasusCNNDatasetNRandom()\n",
    "train_loader = DataLoader(dataset, batch_size=4, shuffle=True, num_workers=0)\n",
    "for data in train_loader:\n",
    "    break\n",
    "#get dataloader\n"
   ]
  },
  {
   "cell_type": "code",
   "execution_count": 14,
   "metadata": {},
   "outputs": [
    {
     "data": {
      "text/plain": [
       "{'article_text': ['(Health.com) -- Infants who undergo surgical procedures requiring general anesthesia in their first two years of life may be at increased risk of developing attention deficit hyperactivity disorder (ADHD) as they grow older.Warner, however, stresses that parents should not be unduly alarmed if their child requires general anesthesia.\"All we can say is that we can\\'t exclude that this could be a problem,\" he says, noting that the findings do not prove cause and effect.Very few young children undergo surgery requiring general anesthesia, and those who do typically have serious medical conditions that can\\'t be ignored.Procedures might include hernia repair (to prevent a section of intestine from getting trapped and causing an obstruction), or surgeries to correct life-threatening abnormalities of the lungs or heart.Health.com: 9 food additives that may affect ADHD .The new findings should not dissuade parents or doctors from approving necessary surgery, says Peter J.Davis, M.D., anesthesiologist-in-chief at the Children\\'s Hospital of Pittsburgh.\"There is no data to suggest that kids who require surgery shouldn\\'t have it,\" says Davis, who was not involved in the study.Concerns about the potential impact of general anesthesia on brain development first arose about 10 years ago, after studies showed that young animals exposed to anesthesia had brain changes that were associated with behavioral problems.At the time, investigators didn\\'t think the results from animal studies would be borne out in humans.But a study published last year by Warner and his colleagues found that young children had double the risk of developing learning disabilities if they\\'d been exposed to multiple rounds of general anesthesia.Health.com: ADHD linked to pesticide exposure .The new study implies the same pattern might hold for ADHD, although a number of major caveats apply.Only 350 children -- less than 1% of the study participants -- were put under for a surgical procedure, which is a small sample from which to draw conclusions.And more than two-thirds of the children needing surgery were boys, who are already at triple the risk for ADHD than girls.In addition, most of the surgeries, which took place in the late 1970s and early 1980s, involved the anesthetic halothane, which is no longer used.Finally, not all of the children received an ADHD diagnosis from a doctor.The researchers identified most ADHD cases by piecing together detailed school and medical records, although they used a rigorous multistep process to do so.Health.com: What if my child begins to exhibit symptoms of ADHD? But perhaps the main reason for caution is that the authors can\\'t rule out the possibility that the medical conditions that prompted the surgeries, rather than the anesthetic, are responsible for the increased ADHD risk.Similarly, they can\\'t rule out the possibility that some other aspect of surgery or recovery, such as medications, may be to blame.\"The issues of surgery and anesthesia really can\\'t be separated in all this,\" Davis says.Still, there is some evidence that suggests a link between general anesthesia and ADHD is plausible.In animals, anesthetics -- including newer-generation drugs -- seem to speed up the otherwise normal process of cell death, which may make the brain more vulnerable to ADHD, Warner says.The drugs may also directly damage neurons, he adds.The good news is that the window in which a child\\'s brain is developing rapidly and is susceptible to this type of damage appears to be relatively brief.Researchers haven\\'t pinned down the exact time frame, but animal studies suggest that the risk of damage decreases after about age three, Warner says.Copyright Health Magazine 2011 .',\n",
       "  \"By .A spiritual healer has been charged with rape and sexual assault after luring a woman to a motel room to perform a raw egg cleanse treatment.Alberto Flores Ramirez, 36, allegedly met his victim through a chat and dating website.Ramirez, of Santa Clemente, California, embarked on an online relationship with the 33-year-old woman from Mexico who is in the U.S.on a tourist visa with her son.Her two daughters remained in Mexico with a man who is not her husband but has custody of the children.Santa Ana police Cpl.Anthony Bertagna told MailOnline that Ramirez had convinced the woman he could 'spiritually cleanse her', making it possible for her two girls to come to America.After chatting to Ramirez on the website Badoo, she agreed to meet him at a McDonald's restaurant in Santa Ana on April 3.They then drove to the Aloha Motel around 6pm to begin the treatment - a healing art which cleanses a person's spiritual aura by running an egg over the body to release negative energies.Egg cleansing is common throughout central and south America, but is not widely known in the U.S.After performing the cleanse once, Ramirez told the victim she still had 'bad vibes' and to remove her clothes.He then reportedly rubbed raw eggs on the victim’s body and fondled her, according to a report by the District Attorney's office.When the victim attempted to cover herself with the comforter from the bed, Ramirez is accused of jumping on top of the victim and restraining her.He then raped the woman and threatened her life.After she escaped, she contacted police and took part in a sting to catch Ramirez - who is believed to be in the U.S.illegally.Cultural practice: Although it is not widely known in the U.S., the raw egg cleanse is commonly used as a spiritual healing treatment in Latin America .He was lured to a meeting point after text messages were sent by the woman and detectives were able to make an arrest.Ramirez has been charged with one .felony count each of forcible rape, forcible oral copulation, and sexual .penetration with foreign object by force.If convicted, he faces a .maximum sentence of 12 years in state prison.Ramirez is being held on $100,000 bail and was expected to be arraigned today at 3pm local time.Attack: Ramirez took the 33-year-old woman to the Aloha Motel to perform the spiritual treatment and then allegedly raped and threatened to kill her .\",\n",
       "  'By .in on our most valued shrubs.Adding insult, they normally just spit .out the severed bits uneaten.’ Mr Davies admitted he had not shot .anything for over 40 years but he had considered getting in pest .controllers.He added that he had ‘shot at’ grey squirrels and a ‘horrid .feral cat with an airgun’ but ‘always missed’.Anger: The comments by the Montgomeryshire MP immediately drew an angry reaction from animal welfare groups.A red deer is pictured .He went on that he did not have a gun .or a licence ‘so it can be no more than a dream.I suppose I could buy a .bow and arrow.I am after all the reigning parliamentary archery .champion.’ He pointed out that David Cameron was himself a keen deer stalker.‘So me and stag shooting...are wholly Cameroon!’ The Prime Minister has pledged a vote in the Commons on blood sports in what is likely to be a free vote.',\n",
       "  \"By .Other features of the Supercraft, illustration pictured, include an Android display with Bluetooth and Wi-Fi connectivity plus refrigerated drink wells .Ten collector's edition will be .available from 15 May, with 50 more units manufactured in October.A Mercier-Jones spokesman said: 'Supercraft is the world's first luxury high-performance hovercraft.‘Agile, fast, easy to pilot, the 2015 Supercraft is an advanced amphibious vehicle with style certain to draw attention.'Mercier-Jones has patent pending technology in its revolutionary propulsion system and hybrid drive train, making the Supercraft the most innovative hand built hovercraft ever manufactured.’\"],\n",
       " 'summary_text': ['Higher chance of ADHD found in infants who had two surgeries .\\nHaving a single surgical procedure did not appear to increase risk .\\nThe longer a child was unconscious, the greater the ADHD risk .',\n",
       "  'Alberto Flores Ramirez, 36, lured Mexican woman with promise to cleanse her aura .\\nVictim is on U.S. tourist visa with her son - while two daughters remain in Mexico .\\nRaw egg cleanse is a healing practice common in Latin America .',\n",
       "  \"MP Glyn Davies declared on Twitter he wanted to shoot beast with shotgun .\\nComments immediately drew angry reaction from animal welfare groups .\\nHe said: 'I accept reference to 12 bore was wrong. Should have been a .22'\",\n",
       "  \"Two-seater Supercraft costs $75,000 (£45,500) and goes on sale in May .\\nIt is made of carbon fibre with a steel frame and comes with built-in Wi-Fi .\\n10 collector's editions will be available at launch with 50 more units available from October .\\nIt has a top speed of 80mph (128 km/h) on land and 40mph (64km/h) water .\"]}"
      ]
     },
     "execution_count": 14,
     "metadata": {},
     "output_type": "execute_result"
    }
   ],
   "source": [
    "data"
   ]
  }
 ],
 "metadata": {
  "kernelspec": {
   "display_name": "Python 3.9.13 ('base')",
   "language": "python",
   "name": "python3"
  },
  "language_info": {
   "codemirror_mode": {
    "name": "ipython",
    "version": 3
   },
   "file_extension": ".py",
   "mimetype": "text/x-python",
   "name": "python",
   "nbconvert_exporter": "python",
   "pygments_lexer": "ipython3",
   "version": "3.9.13"
  },
  "orig_nbformat": 4,
  "vscode": {
   "interpreter": {
    "hash": "998174799bccd60bb63e033f702b872724459890f16847813c212c177da2da49"
   }
  }
 },
 "nbformat": 4,
 "nbformat_minor": 2
}
